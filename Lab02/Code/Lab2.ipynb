{
 "cells": [
  {
   "cell_type": "code",
   "execution_count": 1,
   "id": "976bb0a4",
   "metadata": {},
   "outputs": [],
   "source": [
    "import numpy as np \n",
    "import json"
   ]
  },
  {
   "cell_type": "code",
   "execution_count": 2,
   "id": "9432a98d",
   "metadata": {},
   "outputs": [],
   "source": [
    "def map_feature(x1, x2):\n",
    "    degree = 6\n",
    "    out = np.ones([len(x1), (degree + 1) * (degree + 2) // 2])\n",
    "    idx = 1\n",
    "\n",
    "    for i in range(1, degree + 1):\n",
    "        for j in range(0, i + 1):\n",
    "            a1 = x1 ** (i - j)\n",
    "            a2 = x2 ** j\n",
    "            out[:, idx] = a1 * a2\n",
    "            idx += 1\n",
    "\n",
    "    return out"
   ]
  },
  {
   "cell_type": "code",
   "execution_count": 3,
   "id": "3c3794ce",
   "metadata": {},
   "outputs": [],
   "source": [
    "def sigmoid(z):\n",
    "    return 1 / (1 + np.exp(-z))\n",
    "\n",
    "def compute_cost(theta, X, y, lambd):\n",
    "    m = len(y)\n",
    "    h = sigmoid(X @ theta)\n",
    "    cost = (-y * np.log(h) - (1 - y) * np.log(1 - h)).mean()\n",
    "    reg_term = (lambd / (2 * m)) * np.sum(theta[1:]**2)  # Exclude theta_0 from regularization\n",
    "    return cost + reg_term\n",
    "\n",
    "def compute_gradient(theta, X, y, lambd):\n",
    "    m = len(y)\n",
    "    h = sigmoid(X @ theta)\n",
    "    grad = (X.T @ (h - y)) / m\n",
    "    grad[1:] += (lambd / m) * theta[1:]  # Regularization for j >= 1\n",
    "    return grad\n",
    "\n",
    "def gradient_descent(X, y, theta, alpha, lambd, num_iter):\n",
    "    m = len(y)\n",
    "    costs = []\n",
    "\n",
    "    for _ in range(num_iter):\n",
    "        cost = compute_cost(theta, X, y, lambd)\n",
    "        grad = compute_gradient(theta, X, y, lambd)\n",
    "        theta -= alpha * grad\n",
    "        costs.append(cost)\n",
    "\n",
    "    return theta, costs"
   ]
  },
  {
   "cell_type": "code",
   "execution_count": 4,
   "id": "1ca3fe14",
   "metadata": {},
   "outputs": [],
   "source": [
    "def predict(theta, X):\n",
    "    return (sigmoid(X @ theta) >= 0.5).astype(int)"
   ]
  },
  {
   "cell_type": "code",
   "execution_count": 5,
   "id": "0187492e",
   "metadata": {},
   "outputs": [],
   "source": [
    "def evaluate(y_true, y_pred):\n",
    "    tp = np.sum((y_true == 1) & (y_pred == 1))\n",
    "    fp = np.sum((y_true == 0) & (y_pred == 1))\n",
    "    fn = np.sum((y_true == 1) & (y_pred == 0))\n",
    "    tn = np.sum((y_true == 0) & (y_pred == 0))\n",
    "\n",
    "    accuracy = np.mean(y_true == y_pred)\n",
    "    precision_pos = tp / (tp + fp) if (tp + fp) > 0 else 0\n",
    "    recall_pos = tp / (tp + fn) if (tp + fn) > 0 else 0\n",
    "    f1_score_pos = 2 * (precision_pos * recall_pos) / (precision_pos + recall_pos) if (precision_pos + recall_pos) > 0 else 0\n",
    "\n",
    "    precision_neg = tn / (tn + fn) if (tn + fn) > 0 else 0\n",
    "    recall_neg = tn / (tn + fp) if (tn + fp) > 0 else 0\n",
    "    f1_score_neg = 2 * (precision_neg * recall_neg) / (precision_neg + recall_neg) if (precision_neg + recall_neg) > 0 else 0\n",
    "\n",
    "    return {\n",
    "        \"Accuracy\": accuracy * 100,\n",
    "        \"Precision_Positive\": precision_pos,\n",
    "        \"Recall_Positive\": recall_pos,\n",
    "        \"F1-score_Positive\": f1_score_pos,\n",
    "        \"Precision_Negative\": precision_neg,\n",
    "        \"Recall_Negative\": recall_neg,\n",
    "        \"F1-score_Negative\": f1_score_neg\n",
    "    }"
   ]
  },
  {
   "cell_type": "code",
   "execution_count": 7,
   "id": "192e9d25",
   "metadata": {},
   "outputs": [],
   "source": [
    "def main():\n",
    "    with open('config.json') as config_file:\n",
    "        config = json.load(config_file)\n",
    "\n",
    "    alpha = config[\"Alpha\"]\n",
    "    lambd = config[\"Lambda\"]\n",
    "    num_iter = config[\"NumIter\"]\n",
    "\n",
    "    # Read the training data from training_data.txt\n",
    "    data = np.loadtxt('training_data.txt', delimiter=',')\n",
    "    X_raw = data[:, :-1]\n",
    "    y = data[:, -1]\n",
    "\n",
    "    X = map_feature(X_raw[:, 0], X_raw[:, 1])\n",
    "    n = X.shape[1]  # Number of features after mapping\n",
    "    theta = np.zeros(n)\n",
    "\n",
    "    # Train the logistic regression model using gradient descent\n",
    "    theta, costs = gradient_descent(X, y, theta, alpha, lambd, num_iter)\n",
    "    model = {\n",
    "        \"Theta\": theta.tolist(),\n",
    "        \"Alpha\": alpha,\n",
    "        \"Lambda\": lambd\n",
    "    }\n",
    "\n",
    "    with open('model.json', 'w') as model_file:\n",
    "        json.dump(model, model_file)\n",
    "\n",
    "    # Evaluate the model on the training dataset and save the results\n",
    "    y_pred = predict(theta, X)\n",
    "    evaluation_result = evaluate(y, y_pred)\n",
    "\n",
    "    with open('classification_report.json', 'w') as report_file:\n",
    "        json.dump(evaluation_result, report_file)"
   ]
  },
  {
   "cell_type": "code",
   "execution_count": null,
   "id": "fd4c5319",
   "metadata": {},
   "outputs": [],
   "source": [
    "main()"
   ]
  }
 ],
 "metadata": {
  "kernelspec": {
   "display_name": "Python 3",
   "language": "python",
   "name": "python3"
  },
  "language_info": {
   "codemirror_mode": {
    "name": "ipython",
    "version": 3
   },
   "file_extension": ".py",
   "mimetype": "text/x-python",
   "name": "python",
   "nbconvert_exporter": "python",
   "pygments_lexer": "ipython3",
   "version": "3.9.13"
  }
 },
 "nbformat": 4,
 "nbformat_minor": 5
}
